{
 "cells": [
  {
   "cell_type": "code",
   "execution_count": 3,
   "metadata": {},
   "outputs": [],
   "source": [
    "import json\n",
    "\n",
    "train_path = 'train.json'\n",
    "valid_path = 'valid.json'\n",
    "test_path = 'test.json'"
   ]
  },
  {
   "cell_type": "code",
   "execution_count": 4,
   "metadata": {},
   "outputs": [],
   "source": [
    "def process_json(in_path: str, out_prefix: str):\n",
    "    '''Process `train.json`, `valid.json` and `test.json`\n",
    "    '''\n",
    "    # Process separated data\n",
    "    with open(in_path, 'r') as f_in:\n",
    "        data = json.load(f_in)\n",
    "    \n",
    "        with open(out_prefix+'_separate.txt', 'w') as f_out:\n",
    "            id: int = 0\n",
    "            for conv in data:\n",
    "                id += 1\n",
    "                f_out.write(f\"id={id}\\n\\n\")\n",
    "                f_out.write('seeker:\\n')\n",
    "                f_out.write(conv['free_turker_utterance'].strip()+'\\n')\n",
    "                f_out.write('supporter:\\n')\n",
    "                f_out.write(conv['guided_turker_utterance'].strip()+'\\n')\n",
    "\n",
    "\n",
    "                for entry in conv['dialog']:\n",
    "                    if entry[0] == 0:\n",
    "                        f_out.write('seeker:\\n')\n",
    "                    else:\n",
    "                        f_out.write('supporter:\\n')\n",
    "                    f_out.write(entry[1].strip()+'\\n')\n",
    "\n",
    "                f_out.write('\\n')\n",
    "\n",
    "    # Process merged data\n",
    "    with open(in_path, 'r') as f_in:\n",
    "        data = json.load(f_in)\n",
    "        \n",
    "        with open(out_prefix+'_merged.txt', 'w') as f_out:\n",
    "            for conv in data:\n",
    "                f_out.write('seeker:\\n')\n",
    "                f_out.write(conv['free_turker_utterance'].strip()+'\\n')\n",
    "                f_out.write('supporter:\\n')\n",
    "                f_out.write(conv['guided_turker_utterance'].strip()+'\\n')\n",
    "\n",
    "                for entry in conv['dialog']:\n",
    "                    if entry[0] == 0:\n",
    "                        f_out.write('seeker:\\n')\n",
    "                    else:\n",
    "                        f_out.write('supporter:\\n')\n",
    "                    f_out.write(entry[1].strip()+'\\n')"
   ]
  },
  {
   "cell_type": "code",
   "execution_count": 5,
   "metadata": {},
   "outputs": [],
   "source": [
    "process_json(train_path, 'train')\n",
    "process_json(valid_path, 'valid')\n",
    "process_json(test_path, 'test')"
   ]
  },
  {
   "cell_type": "code",
   "execution_count": 6,
   "metadata": {},
   "outputs": [],
   "source": [
    "def process_annotations(in_path: str, out_path: str):\n",
    "    '''Process `human_annotations.json`\n",
    "    '''\n",
    "    with open(in_path, 'r') as f_in:\n",
    "        data = json.load(f_in)['data']\n",
    "\n",
    "        with open(out_path, 'w') as f_out:\n",
    "            is_seeker = True\n",
    "            for entry in data:\n",
    "                if is_seeker:\n",
    "                    f_out.write('seeker:\\n')\n",
    "                    is_seeker = False\n",
    "                else:\n",
    "                    f_out.write('supporter:\\n')\n",
    "                    is_seeker = True\n",
    "                f_out.write(entry['text'].strip()+'\\n')\n"
   ]
  },
  {
   "cell_type": "code",
   "execution_count": 8,
   "metadata": {},
   "outputs": [],
   "source": [
    "process_annotations('human_annotations.json', 'human_annotations.txt')"
   ]
  },
  {
   "cell_type": "code",
   "execution_count": null,
   "metadata": {},
   "outputs": [],
   "source": []
  }
 ],
 "metadata": {
  "kernelspec": {
   "display_name": "Python 3.10.6 64-bit ('3.10.6')",
   "language": "python",
   "name": "python3"
  },
  "language_info": {
   "codemirror_mode": {
    "name": "ipython",
    "version": 3
   },
   "file_extension": ".py",
   "mimetype": "text/x-python",
   "name": "python",
   "nbconvert_exporter": "python",
   "pygments_lexer": "ipython3",
   "version": "3.10.6"
  },
  "orig_nbformat": 4,
  "vscode": {
   "interpreter": {
    "hash": "418913cb93534b0d0cf5f0fefdeb6f7e72048ef16d0da548eb476d106ddc4cf0"
   }
  }
 },
 "nbformat": 4,
 "nbformat_minor": 2
}
