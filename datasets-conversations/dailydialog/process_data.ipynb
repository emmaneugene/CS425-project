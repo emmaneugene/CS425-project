{
 "cells": [
  {
   "cell_type": "code",
   "execution_count": 1,
   "metadata": {},
   "outputs": [],
   "source": [
    "import json\n",
    "\n",
    "train_path = 'train.json'\n",
    "valid_path = 'valid.json'\n",
    "test_path = 'test.json'"
   ]
  },
  {
   "cell_type": "code",
   "execution_count": 2,
   "metadata": {},
   "outputs": [],
   "source": [
    "def process(in_path: str, out_path: str):\n",
    "    f_in = open(in_path, 'r')\n",
    "    f_out = open(out_path, 'w')\n",
    "\n",
    "    for line in f_in:\n",
    "        conv: str = json.loads(line)\n",
    "        dialogue: list = conv['dialogue']\n",
    "\n",
    "        if len(dialogue) % 2 != 0:\n",
    "            dialogue.pop()\n",
    "\n",
    "        isSeeker = True\n",
    "        for i in dialogue:\n",
    "            if isSeeker:\n",
    "                f_out.write('seeker:\\n')\n",
    "                isSeeker = False\n",
    "            else:\n",
    "                f_out.write('supporter:\\n')\n",
    "                isSeeker = True\n",
    "            f_out.write(i['text']+'\\n')\n",
    "\n"
   ]
  },
  {
   "cell_type": "code",
   "execution_count": 3,
   "metadata": {},
   "outputs": [],
   "source": [
    "process(train_path, 'train_merged.txt')\n",
    "process(valid_path, 'valid_merged.txt')\n",
    "process(test_path, 'test_merged.txt')"
   ]
  },
  {
   "cell_type": "code",
   "execution_count": 4,
   "metadata": {},
   "outputs": [],
   "source": [
    "def process_sep(in_path: str, out_path: str):\n",
    "    f_in = open(in_path, 'r')\n",
    "    f_out = open(out_path, 'w')\n",
    "\n",
    "    id: int = 1\n",
    "    for line in f_in:\n",
    "        conv: str = json.loads(line)\n",
    "        dialogue: list = conv['dialogue']\n",
    "\n",
    "        if len(dialogue) % 2 != 0:\n",
    "            dialogue.pop()\n",
    "\n",
    "        isSeeker = True\n",
    "        f_out.write(f\"id={id}\\n\\n\")\n",
    "        id += 1\n",
    "        for i in dialogue:\n",
    "            if isSeeker:\n",
    "                f_out.write('seeker:\\n')\n",
    "                isSeeker = False\n",
    "            else:\n",
    "                f_out.write('supporter:\\n')\n",
    "                isSeeker = True\n",
    "            f_out.write(i['text']+'\\n')\n",
    "        f_out.write('\\n')\n",
    "\n"
   ]
  },
  {
   "cell_type": "code",
   "execution_count": 5,
   "metadata": {},
   "outputs": [],
   "source": [
    "process_sep(train_path, 'train_separate.txt')\n",
    "process_sep(valid_path, 'valid_separate.txt')\n",
    "process_sep(test_path, 'test_separate.txt')"
   ]
  },
  {
   "cell_type": "code",
   "execution_count": null,
   "metadata": {},
   "outputs": [],
   "source": []
  }
 ],
 "metadata": {
  "kernelspec": {
   "display_name": "Python 3.10.6 64-bit ('3.10.6')",
   "language": "python",
   "name": "python3"
  },
  "language_info": {
   "codemirror_mode": {
    "name": "ipython",
    "version": 3
   },
   "file_extension": ".py",
   "mimetype": "text/x-python",
   "name": "python",
   "nbconvert_exporter": "python",
   "pygments_lexer": "ipython3",
   "version": "3.10.6"
  },
  "orig_nbformat": 4,
  "vscode": {
   "interpreter": {
    "hash": "418913cb93534b0d0cf5f0fefdeb6f7e72048ef16d0da548eb476d106ddc4cf0"
   }
  }
 },
 "nbformat": 4,
 "nbformat_minor": 2
}
