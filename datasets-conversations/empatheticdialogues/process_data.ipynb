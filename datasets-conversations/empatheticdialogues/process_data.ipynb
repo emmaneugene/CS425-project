{
 "cells": [
  {
   "cell_type": "code",
   "execution_count": 1,
   "metadata": {},
   "outputs": [
    {
     "name": "stderr",
     "output_type": "stream",
     "text": [
      "/var/folders/l5/774zzt5931qfsryw2mb8xzn40000gn/T/ipykernel_98036/2623839061.py:3: DtypeWarning: Columns (4,9,10) have mixed types. Specify dtype option on import or set low_memory=False.\n",
      "  train = pd.read_csv('train.csv')\n"
     ]
    }
   ],
   "source": [
    "import pandas as pd\n",
    "\n",
    "train = pd.read_csv('train.csv')\n",
    "valid = pd.read_csv('valid.csv')\n",
    "test = pd.read_csv('test.csv')"
   ]
  },
  {
   "cell_type": "code",
   "execution_count": 2,
   "metadata": {},
   "outputs": [
    {
     "data": {
      "text/html": [
       "<div><div id=ee784b7d-df62-4a28-8a30-7f1663d65399 style=\"display:none; background-color:#9D6CFF; color:white; width:200px; height:30px; padding-left:5px; border-radius:4px; flex-direction:row; justify-content:space-around; align-items:center;\" onmouseover=\"this.style.backgroundColor='#BA9BF8'\" onmouseout=\"this.style.backgroundColor='#9D6CFF'\" onclick=\"window.commands?.execute('create-mitosheet-from-dataframe-output');\">See Full Dataframe in Mito</div> <script> if (window.commands?.hasCommand('create-mitosheet-from-dataframe-output')) document.getElementById('ee784b7d-df62-4a28-8a30-7f1663d65399').style.display = 'flex' </script> <table border=\"1\" class=\"dataframe\">\n",
       "  <thead>\n",
       "    <tr style=\"text-align: right;\">\n",
       "      <th></th>\n",
       "      <th>conv_id</th>\n",
       "      <th>utterance_idx</th>\n",
       "      <th>context</th>\n",
       "      <th>prompt</th>\n",
       "      <th>speaker_idx</th>\n",
       "      <th>utterance</th>\n",
       "      <th>selfeval</th>\n",
       "      <th>tags</th>\n",
       "      <th>misc</th>\n",
       "      <th>Unnamed: 9</th>\n",
       "      <th>Unnamed: 10</th>\n",
       "    </tr>\n",
       "  </thead>\n",
       "  <tbody>\n",
       "    <tr>\n",
       "      <th>0</th>\n",
       "      <td>hit:0_conv:1</td>\n",
       "      <td>1</td>\n",
       "      <td>sentimental</td>\n",
       "      <td>I remember going to the fireworks with my best friend. There was a lot of people_comma_ but it only felt like us in the world.</td>\n",
       "      <td>1</td>\n",
       "      <td>I remember going to see the fireworks with my best friend. It was the first time we ever spent time alone together. Although there was a lot of people_comma_ we felt like the only people in the world.</td>\n",
       "      <td>5|5|5_2|2|5</td>\n",
       "      <td>NaN</td>\n",
       "      <td>NaN</td>\n",
       "      <td>NaN</td>\n",
       "      <td>NaN</td>\n",
       "    </tr>\n",
       "    <tr>\n",
       "      <th>1</th>\n",
       "      <td>hit:0_conv:1</td>\n",
       "      <td>2</td>\n",
       "      <td>sentimental</td>\n",
       "      <td>I remember going to the fireworks with my best friend. There was a lot of people_comma_ but it only felt like us in the world.</td>\n",
       "      <td>0</td>\n",
       "      <td>Was this a friend you were in love with_comma_ or just a best friend?</td>\n",
       "      <td>5|5|5_2|2|5</td>\n",
       "      <td>NaN</td>\n",
       "      <td>NaN</td>\n",
       "      <td>NaN</td>\n",
       "      <td>NaN</td>\n",
       "    </tr>\n",
       "    <tr>\n",
       "      <th>2</th>\n",
       "      <td>hit:0_conv:1</td>\n",
       "      <td>3</td>\n",
       "      <td>sentimental</td>\n",
       "      <td>I remember going to the fireworks with my best friend. There was a lot of people_comma_ but it only felt like us in the world.</td>\n",
       "      <td>1</td>\n",
       "      <td>This was a best friend. I miss her.</td>\n",
       "      <td>5|5|5_2|2|5</td>\n",
       "      <td>NaN</td>\n",
       "      <td>NaN</td>\n",
       "      <td>NaN</td>\n",
       "      <td>NaN</td>\n",
       "    </tr>\n",
       "    <tr>\n",
       "      <th>3</th>\n",
       "      <td>hit:0_conv:1</td>\n",
       "      <td>4</td>\n",
       "      <td>sentimental</td>\n",
       "      <td>I remember going to the fireworks with my best friend. There was a lot of people_comma_ but it only felt like us in the world.</td>\n",
       "      <td>0</td>\n",
       "      <td>Where has she gone?</td>\n",
       "      <td>5|5|5_2|2|5</td>\n",
       "      <td>NaN</td>\n",
       "      <td>NaN</td>\n",
       "      <td>NaN</td>\n",
       "      <td>NaN</td>\n",
       "    </tr>\n",
       "    <tr>\n",
       "      <th>4</th>\n",
       "      <td>hit:0_conv:1</td>\n",
       "      <td>5</td>\n",
       "      <td>sentimental</td>\n",
       "      <td>I remember going to the fireworks with my best friend. There was a lot of people_comma_ but it only felt like us in the world.</td>\n",
       "      <td>1</td>\n",
       "      <td>We no longer talk.</td>\n",
       "      <td>5|5|5_2|2|5</td>\n",
       "      <td>NaN</td>\n",
       "      <td>NaN</td>\n",
       "      <td>NaN</td>\n",
       "      <td>NaN</td>\n",
       "    </tr>\n",
       "  </tbody>\n",
       "</table></div>"
      ],
      "text/plain": [
       "        conv_id utterance_idx      context  \\\n",
       "0  hit:0_conv:1             1  sentimental   \n",
       "1  hit:0_conv:1             2  sentimental   \n",
       "2  hit:0_conv:1             3  sentimental   \n",
       "3  hit:0_conv:1             4  sentimental   \n",
       "4  hit:0_conv:1             5  sentimental   \n",
       "\n",
       "                                              prompt speaker_idx  \\\n",
       "0  I remember going to the fireworks with my best...           1   \n",
       "1  I remember going to the fireworks with my best...           0   \n",
       "2  I remember going to the fireworks with my best...           1   \n",
       "3  I remember going to the fireworks with my best...           0   \n",
       "4  I remember going to the fireworks with my best...           1   \n",
       "\n",
       "                                           utterance     selfeval tags misc  \\\n",
       "0  I remember going to see the fireworks with my ...  5|5|5_2|2|5  NaN  NaN   \n",
       "1  Was this a friend you were in love with_comma_...  5|5|5_2|2|5  NaN  NaN   \n",
       "2                This was a best friend. I miss her.  5|5|5_2|2|5  NaN  NaN   \n",
       "3                                Where has she gone?  5|5|5_2|2|5  NaN  NaN   \n",
       "4                                 We no longer talk.  5|5|5_2|2|5  NaN  NaN   \n",
       "\n",
       "  Unnamed: 9 Unnamed: 10  \n",
       "0        NaN         NaN  \n",
       "1        NaN         NaN  \n",
       "2        NaN         NaN  \n",
       "3        NaN         NaN  \n",
       "4        NaN         NaN  "
      ]
     },
     "execution_count": 2,
     "metadata": {},
     "output_type": "execute_result"
    }
   ],
   "source": [
    "train.head()"
   ]
  },
  {
   "cell_type": "code",
   "execution_count": 3,
   "metadata": {},
   "outputs": [],
   "source": [
    "def process_data(df: pd.DataFrame, out_path: str):\n",
    "    '''Takes in dataframe of the type shown above, and writes responses to .txt\n",
    "    files\n",
    "    '''\n",
    "    curr_prompt = df.iloc[0]['prompt']\n",
    "    responses = []\n",
    "\n",
    "    f_out = open(out_path, 'a')\n",
    "\n",
    "    for idx, row in df.iterrows():\n",
    "        if row['prompt'] == curr_prompt:\n",
    "            responses.append(row['utterance'])\n",
    "        else:\n",
    "            write_responses(responses, out_path)\n",
    "            curr_prompt = row['prompt']\n",
    "            responses = [row['prompt']]\n",
    "        \n",
    "def write_responses(content: list[str], out_path: str):\n",
    "    if len(content) % 2 != 0:\n",
    "        content.pop()\n",
    "    \n",
    "    with open(out_path, 'a') as f_out:\n",
    "        isSeeker = True\n",
    "        for i in content:\n",
    "            if isSeeker:\n",
    "                f_out.write('seeker:\\n')\n",
    "                isSeeker = False\n",
    "            else:\n",
    "                f_out.write('supporter:\\n')\n",
    "                isSeeker = True\n",
    "            i = i.replace(\"_comma_\", \",\").strip()\n",
    "            f_out.write(i+'\\n')\n",
    "\n",
    "    \n",
    "    "
   ]
  },
  {
   "cell_type": "code",
   "execution_count": 5,
   "metadata": {},
   "outputs": [],
   "source": [
    "process_data(train, 'train_merged.txt')\n",
    "process_data(valid, 'valid_merged.txt')\n",
    "process_data(test, 'test_merged.txt')"
   ]
  }
 ],
 "metadata": {
  "kernelspec": {
   "display_name": "Python 3.10.6 64-bit ('3.10.6')",
   "language": "python",
   "name": "python3"
  },
  "language_info": {
   "codemirror_mode": {
    "name": "ipython",
    "version": 3
   },
   "file_extension": ".py",
   "mimetype": "text/x-python",
   "name": "python",
   "nbconvert_exporter": "python",
   "pygments_lexer": "ipython3",
   "version": "3.10.6"
  },
  "orig_nbformat": 4,
  "vscode": {
   "interpreter": {
    "hash": "418913cb93534b0d0cf5f0fefdeb6f7e72048ef16d0da548eb476d106ddc4cf0"
   }
  }
 },
 "nbformat": 4,
 "nbformat_minor": 2
}
