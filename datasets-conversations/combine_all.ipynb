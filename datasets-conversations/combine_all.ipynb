{
 "cells": [
  {
   "cell_type": "code",
   "execution_count": 1,
   "metadata": {},
   "outputs": [],
   "source": [
    "import pandas as pd"
   ]
  },
  {
   "cell_type": "code",
   "execution_count": 2,
   "metadata": {},
   "outputs": [
    {
     "name": "stdout",
     "output_type": "stream",
     "text": [
      "101476\n",
      "101476\n"
     ]
    }
   ],
   "source": [
    "seeker = []\n",
    "supporter = []\n",
    "\n",
    "def parse_responses(path: str, seeker: list[str], supporter: list[str]):\n",
    "    with open(path, 'r') as f:\n",
    "        for line in f:\n",
    "            if line.startswith('seeker'):\n",
    "                read_seeker = True\n",
    "            elif line.startswith('supporter'):\n",
    "                read_seeker = False\n",
    "            else:\n",
    "                if read_seeker:\n",
    "                    seeker.append(line.strip())\n",
    "                else:\n",
    "                    supporter.append(line.strip())\n",
    "\n",
    "parse_responses('blended_skill_talk/human_annotations.txt', seeker, supporter)\n",
    "parse_responses('dailydialog/train_merged.txt', seeker, supporter)\n",
    "parse_responses('dailydialog/valid_merged.txt', seeker, supporter)\n",
    "parse_responses('dailydialog/test_merged.txt', seeker, supporter)\n",
    "parse_responses('empatheticdialogues/train_merged.txt', seeker, supporter)\n",
    "parse_responses('empatheticdialogues/valid_merged.txt', seeker, supporter)\n",
    "parse_responses('empatheticdialogues/test_merged.txt', seeker, supporter)\n",
    "\n",
    "\n",
    "print(len(seeker))\n",
    "print(len(supporter))"
   ]
  },
  {
   "cell_type": "code",
   "execution_count": 3,
   "metadata": {},
   "outputs": [
    {
     "data": {
      "text/html": [
       "<div><div id=05194202-7266-4b4a-b2de-3f60f17f5ed1 style=\"display:none; background-color:#9D6CFF; color:white; width:200px; height:30px; padding-left:5px; border-radius:4px; flex-direction:row; justify-content:space-around; align-items:center;\" onmouseover=\"this.style.backgroundColor='#BA9BF8'\" onmouseout=\"this.style.backgroundColor='#9D6CFF'\" onclick=\"window.commands?.execute('create-mitosheet-from-dataframe-output');\">See Full Dataframe in Mito</div> <script> if (window.commands?.hasCommand('create-mitosheet-from-dataframe-output')) document.getElementById('05194202-7266-4b4a-b2de-3f60f17f5ed1').style.display = 'flex' </script> <table border=\"1\" class=\"dataframe\">\n",
       "  <thead>\n",
       "    <tr style=\"text-align: right;\">\n",
       "      <th></th>\n",
       "      <th>seeker</th>\n",
       "      <th>supporter</th>\n",
       "    </tr>\n",
       "  </thead>\n",
       "  <tbody>\n",
       "    <tr>\n",
       "      <th>0</th>\n",
       "      <td>You sound like an animal lover too.  Any pets?</td>\n",
       "      <td>I do love animals. We currently have a dog and a cat. How about you? Did you ever get another rabbit?</td>\n",
       "    </tr>\n",
       "    <tr>\n",
       "      <th>1</th>\n",
       "      <td>Same on the dog and cat.  The dog was a stray named Blue.  The cat is a rescue named Smores. No more rabbits, for now.</td>\n",
       "      <td>We found our cat at the park one day, she was a skinny little kitten. She has been the best pet!</td>\n",
       "    </tr>\n",
       "    <tr>\n",
       "      <th>2</th>\n",
       "      <td>Awe!  I bet she is sweet.  What is her name?  What color is she?</td>\n",
       "      <td>She is black and her name is Moon. I never had a cat growing up but they really are so easy to care for.</td>\n",
       "    </tr>\n",
       "    <tr>\n",
       "      <th>3</th>\n",
       "      <td>Now Moon is the coolest name for a cat.  It's really unique, especially for this time of year. They are easy.</td>\n",
       "      <td>No more pets for us for a while. We live on a lake so we get to see plenty of wild life around here, that's enough for me.</td>\n",
       "    </tr>\n",
       "    <tr>\n",
       "      <th>4</th>\n",
       "      <td>I bet it's beautiful.  I have always wanted to live on the water.  What area - if you don't mind me asking?</td>\n",
       "      <td>We live in the Midwest, it is beautiful here. I don't ever think about leaving.</td>\n",
       "    </tr>\n",
       "    <tr>\n",
       "      <th>...</th>\n",
       "      <td>...</td>\n",
       "      <td>...</td>\n",
       "    </tr>\n",
       "    <tr>\n",
       "      <th>101471</th>\n",
       "      <td>Yes, his work told him he couldn't go after they already approved the time off. Guess next month is going to be busy at his work :(</td>\n",
       "      <td>Well, that is just terrible.  I hate it when companies jerk you around like that.  I hope you will be able to reschedule it, although I know that wouldn't make up for the frustration.</td>\n",
       "    </tr>\n",
       "    <tr>\n",
       "      <th>101472</th>\n",
       "      <td>I'm glad that life is being good to me</td>\n",
       "      <td>that is a great way to look at it</td>\n",
       "    </tr>\n",
       "    <tr>\n",
       "      <th>101473</th>\n",
       "      <td>Glad you think so as well!</td>\n",
       "      <td>Yeah more people should look at life like you do</td>\n",
       "    </tr>\n",
       "    <tr>\n",
       "      <th>101474</th>\n",
       "      <td>I saw a huge cockroach outside my house today. We live in Texas so they are common but still gross!</td>\n",
       "      <td>did you call the exterminator?</td>\n",
       "    </tr>\n",
       "    <tr>\n",
       "      <th>101475</th>\n",
       "      <td>Not yet since it's the weekend. We live in Texas so they are common but still gross! I'm glad I haven't see any in my house.</td>\n",
       "      <td>I live in Texas to so i know those feels</td>\n",
       "    </tr>\n",
       "  </tbody>\n",
       "</table></div>"
      ],
      "text/plain": [
       "                                                   seeker  \\\n",
       "0          You sound like an animal lover too.  Any pets?   \n",
       "1       Same on the dog and cat.  The dog was a stray ...   \n",
       "2       Awe!  I bet she is sweet.  What is her name?  ...   \n",
       "3       Now Moon is the coolest name for a cat.  It's ...   \n",
       "4       I bet it's beautiful.  I have always wanted to...   \n",
       "...                                                   ...   \n",
       "101471  Yes, his work told him he couldn't go after th...   \n",
       "101472             I'm glad that life is being good to me   \n",
       "101473                         Glad you think so as well!   \n",
       "101474  I saw a huge cockroach outside my house today....   \n",
       "101475  Not yet since it's the weekend. We live in Tex...   \n",
       "\n",
       "                                                supporter  \n",
       "0       I do love animals. We currently have a dog and...  \n",
       "1       We found our cat at the park one day, she was ...  \n",
       "2       She is black and her name is Moon. I never had...  \n",
       "3       No more pets for us for a while. We live on a ...  \n",
       "4       We live in the Midwest, it is beautiful here. ...  \n",
       "...                                                   ...  \n",
       "101471  Well, that is just terrible.  I hate it when c...  \n",
       "101472                  that is a great way to look at it  \n",
       "101473   Yeah more people should look at life like you do  \n",
       "101474                     did you call the exterminator?  \n",
       "101475           I live in Texas to so i know those feels  \n",
       "\n",
       "[101476 rows x 2 columns]"
      ]
     },
     "metadata": {},
     "output_type": "display_data"
    }
   ],
   "source": [
    "# Set up the dataframe\n",
    "conversation_df = pd.DataFrame({\"seeker\":seeker, \"supporter\":supporter})\n",
    "display(conversation_df)"
   ]
  },
  {
   "cell_type": "code",
   "execution_count": 4,
   "metadata": {},
   "outputs": [],
   "source": [
    "conversation_df.to_csv('BART_input.csv', index=False)"
   ]
  }
 ],
 "metadata": {
  "kernelspec": {
   "display_name": "Python 3.10.6 64-bit ('3.10.6')",
   "language": "python",
   "name": "python3"
  },
  "language_info": {
   "codemirror_mode": {
    "name": "ipython",
    "version": 3
   },
   "file_extension": ".py",
   "mimetype": "text/x-python",
   "name": "python",
   "nbconvert_exporter": "python",
   "pygments_lexer": "ipython3",
   "version": "3.10.6"
  },
  "orig_nbformat": 4,
  "vscode": {
   "interpreter": {
    "hash": "418913cb93534b0d0cf5f0fefdeb6f7e72048ef16d0da548eb476d106ddc4cf0"
   }
  }
 },
 "nbformat": 4,
 "nbformat_minor": 2
}
